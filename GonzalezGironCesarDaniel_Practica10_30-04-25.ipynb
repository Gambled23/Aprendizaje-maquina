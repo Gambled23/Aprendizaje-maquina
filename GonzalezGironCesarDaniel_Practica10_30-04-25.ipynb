{
 "cells": [
  {
   "cell_type": "markdown",
   "metadata": {},
   "source": [
    "# Datos iniciales\n",
    "Volver a correr pesos y sesgos despues de cada entrenamiento (para reiniciar red y cambiar entre and/or)"
   ]
  },
  {
   "cell_type": "code",
   "execution_count": null,
   "metadata": {},
   "outputs": [],
   "source": [
    "\n",
    "# Datos de entrenamiento\n",
    "inputs = [[0, 0], [0, 1], [1, 0], [1, 1]]\n",
    "targets_and = [0, 0, 0, 1]\n",
    "targets_or = [0, 1, 1, 1]"
   ]
  },
  {
   "cell_type": "code",
   "execution_count": 7,
   "metadata": {},
   "outputs": [],
   "source": [
    "weights = [0.5, -0.5]  # Pesos de neurona de salida\n",
    "bias = 0.1  # Sesgo para nmeurona de salida\n",
    "learning_rate = 0.4"
   ]
  },
  {
   "cell_type": "markdown",
   "metadata": {},
   "source": [
    "# Funciones principales"
   ]
  },
  {
   "cell_type": "code",
   "execution_count": 4,
   "metadata": {},
   "outputs": [],
   "source": [
    "# Función de activación step\n",
    "def step_function(x):\n",
    "    return 1 if x >= 0 else 0\n",
    "\n",
    "# Calcular salida\n",
    "def forward_pass(inputs):\n",
    "    weighted_sum = sum([inputs[j] * weights[j] for j in range(len(inputs))]) + bias # Suma ponderada\n",
    "    return step_function(weighted_sum) # Aplicar función de activación\n",
    "\n",
    "# Función de entrenamiento\n",
    "def train(inputs, targets, epochs):\n",
    "    global weights, bias\n",
    "    for epoch in range(epochs):\n",
    "        print(f\"Epoch {epoch + 1}/{epochs}\")\n",
    "        for input_vector, target in zip(inputs, targets):\n",
    "            # Calcular salida y error\n",
    "            output = forward_pass(input_vector)\n",
    "            error = target - output\n",
    "            print(f\"Entrada: {input_vector}, Esperado: {target}, Prediccion: {output}, Error:{error}, Pesos: {weights}, Sesgo: {bias}\")\n",
    "\n",
    "            # Actualizar pesos y sesgo\n",
    "            for j in range(len(input_vector)):\n",
    "                weights[j] += learning_rate * error * input_vector[j]\n",
    "            bias += learning_rate * error"
   ]
  },
  {
   "cell_type": "markdown",
   "metadata": {},
   "source": [
    "## Entrenar perceptron para AND"
   ]
  },
  {
   "cell_type": "code",
   "execution_count": 5,
   "metadata": {},
   "outputs": [
    {
     "name": "stdout",
     "output_type": "stream",
     "text": [
      "Epoch 1/10\n",
      "Entrada: [0, 0], Esperado: 0, Prediccion: 1, Error:-1, Pesos: [0.5, -0.5], Sesgo: 0.1\n",
      "Entrada: [0, 1], Esperado: 0, Prediccion: 0, Error:0, Pesos: [0.5, -0.5], Sesgo: -0.30000000000000004\n",
      "Entrada: [1, 0], Esperado: 0, Prediccion: 1, Error:-1, Pesos: [0.5, -0.5], Sesgo: -0.30000000000000004\n",
      "Entrada: [1, 1], Esperado: 1, Prediccion: 0, Error:1, Pesos: [0.09999999999999998, -0.5], Sesgo: -0.7000000000000001\n",
      "Epoch 2/10\n",
      "Entrada: [0, 0], Esperado: 0, Prediccion: 0, Error:0, Pesos: [0.5, -0.09999999999999998], Sesgo: -0.30000000000000004\n",
      "Entrada: [0, 1], Esperado: 0, Prediccion: 0, Error:0, Pesos: [0.5, -0.09999999999999998], Sesgo: -0.30000000000000004\n",
      "Entrada: [1, 0], Esperado: 0, Prediccion: 1, Error:-1, Pesos: [0.5, -0.09999999999999998], Sesgo: -0.30000000000000004\n",
      "Entrada: [1, 1], Esperado: 1, Prediccion: 0, Error:1, Pesos: [0.09999999999999998, -0.09999999999999998], Sesgo: -0.7000000000000001\n",
      "Epoch 3/10\n",
      "Entrada: [0, 0], Esperado: 0, Prediccion: 0, Error:0, Pesos: [0.5, 0.30000000000000004], Sesgo: -0.30000000000000004\n",
      "Entrada: [0, 1], Esperado: 0, Prediccion: 1, Error:-1, Pesos: [0.5, 0.30000000000000004], Sesgo: -0.30000000000000004\n",
      "Entrada: [1, 0], Esperado: 0, Prediccion: 0, Error:0, Pesos: [0.5, -0.09999999999999998], Sesgo: -0.7000000000000001\n",
      "Entrada: [1, 1], Esperado: 1, Prediccion: 0, Error:1, Pesos: [0.5, -0.09999999999999998], Sesgo: -0.7000000000000001\n",
      "Epoch 4/10\n",
      "Entrada: [0, 0], Esperado: 0, Prediccion: 0, Error:0, Pesos: [0.9, 0.30000000000000004], Sesgo: -0.30000000000000004\n",
      "Entrada: [0, 1], Esperado: 0, Prediccion: 1, Error:-1, Pesos: [0.9, 0.30000000000000004], Sesgo: -0.30000000000000004\n",
      "Entrada: [1, 0], Esperado: 0, Prediccion: 1, Error:-1, Pesos: [0.9, -0.09999999999999998], Sesgo: -0.7000000000000001\n",
      "Entrada: [1, 1], Esperado: 1, Prediccion: 0, Error:1, Pesos: [0.5, -0.09999999999999998], Sesgo: -1.1\n",
      "Epoch 5/10\n",
      "Entrada: [0, 0], Esperado: 0, Prediccion: 0, Error:0, Pesos: [0.9, 0.30000000000000004], Sesgo: -0.7000000000000001\n",
      "Entrada: [0, 1], Esperado: 0, Prediccion: 0, Error:0, Pesos: [0.9, 0.30000000000000004], Sesgo: -0.7000000000000001\n",
      "Entrada: [1, 0], Esperado: 0, Prediccion: 1, Error:-1, Pesos: [0.9, 0.30000000000000004], Sesgo: -0.7000000000000001\n",
      "Entrada: [1, 1], Esperado: 1, Prediccion: 0, Error:1, Pesos: [0.5, 0.30000000000000004], Sesgo: -1.1\n",
      "Epoch 6/10\n",
      "Entrada: [0, 0], Esperado: 0, Prediccion: 0, Error:0, Pesos: [0.9, 0.7000000000000001], Sesgo: -0.7000000000000001\n",
      "Entrada: [0, 1], Esperado: 0, Prediccion: 1, Error:-1, Pesos: [0.9, 0.7000000000000001], Sesgo: -0.7000000000000001\n",
      "Entrada: [1, 0], Esperado: 0, Prediccion: 0, Error:0, Pesos: [0.9, 0.30000000000000004], Sesgo: -1.1\n",
      "Entrada: [1, 1], Esperado: 1, Prediccion: 1, Error:0, Pesos: [0.9, 0.30000000000000004], Sesgo: -1.1\n",
      "Epoch 7/10\n",
      "Entrada: [0, 0], Esperado: 0, Prediccion: 0, Error:0, Pesos: [0.9, 0.30000000000000004], Sesgo: -1.1\n",
      "Entrada: [0, 1], Esperado: 0, Prediccion: 0, Error:0, Pesos: [0.9, 0.30000000000000004], Sesgo: -1.1\n",
      "Entrada: [1, 0], Esperado: 0, Prediccion: 0, Error:0, Pesos: [0.9, 0.30000000000000004], Sesgo: -1.1\n",
      "Entrada: [1, 1], Esperado: 1, Prediccion: 1, Error:0, Pesos: [0.9, 0.30000000000000004], Sesgo: -1.1\n",
      "Epoch 8/10\n",
      "Entrada: [0, 0], Esperado: 0, Prediccion: 0, Error:0, Pesos: [0.9, 0.30000000000000004], Sesgo: -1.1\n",
      "Entrada: [0, 1], Esperado: 0, Prediccion: 0, Error:0, Pesos: [0.9, 0.30000000000000004], Sesgo: -1.1\n",
      "Entrada: [1, 0], Esperado: 0, Prediccion: 0, Error:0, Pesos: [0.9, 0.30000000000000004], Sesgo: -1.1\n",
      "Entrada: [1, 1], Esperado: 1, Prediccion: 1, Error:0, Pesos: [0.9, 0.30000000000000004], Sesgo: -1.1\n",
      "Epoch 9/10\n",
      "Entrada: [0, 0], Esperado: 0, Prediccion: 0, Error:0, Pesos: [0.9, 0.30000000000000004], Sesgo: -1.1\n",
      "Entrada: [0, 1], Esperado: 0, Prediccion: 0, Error:0, Pesos: [0.9, 0.30000000000000004], Sesgo: -1.1\n",
      "Entrada: [1, 0], Esperado: 0, Prediccion: 0, Error:0, Pesos: [0.9, 0.30000000000000004], Sesgo: -1.1\n",
      "Entrada: [1, 1], Esperado: 1, Prediccion: 1, Error:0, Pesos: [0.9, 0.30000000000000004], Sesgo: -1.1\n",
      "Epoch 10/10\n",
      "Entrada: [0, 0], Esperado: 0, Prediccion: 0, Error:0, Pesos: [0.9, 0.30000000000000004], Sesgo: -1.1\n",
      "Entrada: [0, 1], Esperado: 0, Prediccion: 0, Error:0, Pesos: [0.9, 0.30000000000000004], Sesgo: -1.1\n",
      "Entrada: [1, 0], Esperado: 0, Prediccion: 0, Error:0, Pesos: [0.9, 0.30000000000000004], Sesgo: -1.1\n",
      "Entrada: [1, 1], Esperado: 1, Prediccion: 1, Error:0, Pesos: [0.9, 0.30000000000000004], Sesgo: -1.1\n",
      "\n",
      "Evaluar AND:\n",
      "Input: [0, 0], Output: 0\n",
      "Input: [0, 1], Output: 0\n",
      "Input: [1, 0], Output: 0\n",
      "Input: [1, 1], Output: 1\n"
     ]
    }
   ],
   "source": [
    "# Entrenar perceptron para AND\n",
    "train(inputs, targets_and, epochs=10)\n",
    "\n",
    "# Test\n",
    "print(\"\\nEvaluar AND:\")\n",
    "for input_vector in inputs:\n",
    "    print(f\"Input: {input_vector}, Output: {forward_pass(input_vector)}\")"
   ]
  },
  {
   "cell_type": "markdown",
   "metadata": {},
   "source": [
    "## Entrenar perceptron para OR"
   ]
  },
  {
   "cell_type": "code",
   "execution_count": 8,
   "metadata": {},
   "outputs": [
    {
     "name": "stdout",
     "output_type": "stream",
     "text": [
      "Epoch 1/10\n",
      "Entrada: [0, 0], Esperado: 0, Prediccion: 1, Error:-1, Pesos: [0.5, -0.5], Sesgo: 0.1\n",
      "Entrada: [0, 1], Esperado: 1, Prediccion: 0, Error:1, Pesos: [0.5, -0.5], Sesgo: -0.30000000000000004\n",
      "Entrada: [1, 0], Esperado: 1, Prediccion: 1, Error:0, Pesos: [0.5, -0.09999999999999998], Sesgo: 0.09999999999999998\n",
      "Entrada: [1, 1], Esperado: 1, Prediccion: 1, Error:0, Pesos: [0.5, -0.09999999999999998], Sesgo: 0.09999999999999998\n",
      "Epoch 2/10\n",
      "Entrada: [0, 0], Esperado: 0, Prediccion: 1, Error:-1, Pesos: [0.5, -0.09999999999999998], Sesgo: 0.09999999999999998\n",
      "Entrada: [0, 1], Esperado: 1, Prediccion: 0, Error:1, Pesos: [0.5, -0.09999999999999998], Sesgo: -0.30000000000000004\n",
      "Entrada: [1, 0], Esperado: 1, Prediccion: 1, Error:0, Pesos: [0.5, 0.30000000000000004], Sesgo: 0.09999999999999998\n",
      "Entrada: [1, 1], Esperado: 1, Prediccion: 1, Error:0, Pesos: [0.5, 0.30000000000000004], Sesgo: 0.09999999999999998\n",
      "Epoch 3/10\n",
      "Entrada: [0, 0], Esperado: 0, Prediccion: 1, Error:-1, Pesos: [0.5, 0.30000000000000004], Sesgo: 0.09999999999999998\n",
      "Entrada: [0, 1], Esperado: 1, Prediccion: 1, Error:0, Pesos: [0.5, 0.30000000000000004], Sesgo: -0.30000000000000004\n",
      "Entrada: [1, 0], Esperado: 1, Prediccion: 1, Error:0, Pesos: [0.5, 0.30000000000000004], Sesgo: -0.30000000000000004\n",
      "Entrada: [1, 1], Esperado: 1, Prediccion: 1, Error:0, Pesos: [0.5, 0.30000000000000004], Sesgo: -0.30000000000000004\n",
      "Epoch 4/10\n",
      "Entrada: [0, 0], Esperado: 0, Prediccion: 0, Error:0, Pesos: [0.5, 0.30000000000000004], Sesgo: -0.30000000000000004\n",
      "Entrada: [0, 1], Esperado: 1, Prediccion: 1, Error:0, Pesos: [0.5, 0.30000000000000004], Sesgo: -0.30000000000000004\n",
      "Entrada: [1, 0], Esperado: 1, Prediccion: 1, Error:0, Pesos: [0.5, 0.30000000000000004], Sesgo: -0.30000000000000004\n",
      "Entrada: [1, 1], Esperado: 1, Prediccion: 1, Error:0, Pesos: [0.5, 0.30000000000000004], Sesgo: -0.30000000000000004\n",
      "Epoch 5/10\n",
      "Entrada: [0, 0], Esperado: 0, Prediccion: 0, Error:0, Pesos: [0.5, 0.30000000000000004], Sesgo: -0.30000000000000004\n",
      "Entrada: [0, 1], Esperado: 1, Prediccion: 1, Error:0, Pesos: [0.5, 0.30000000000000004], Sesgo: -0.30000000000000004\n",
      "Entrada: [1, 0], Esperado: 1, Prediccion: 1, Error:0, Pesos: [0.5, 0.30000000000000004], Sesgo: -0.30000000000000004\n",
      "Entrada: [1, 1], Esperado: 1, Prediccion: 1, Error:0, Pesos: [0.5, 0.30000000000000004], Sesgo: -0.30000000000000004\n",
      "Epoch 6/10\n",
      "Entrada: [0, 0], Esperado: 0, Prediccion: 0, Error:0, Pesos: [0.5, 0.30000000000000004], Sesgo: -0.30000000000000004\n",
      "Entrada: [0, 1], Esperado: 1, Prediccion: 1, Error:0, Pesos: [0.5, 0.30000000000000004], Sesgo: -0.30000000000000004\n",
      "Entrada: [1, 0], Esperado: 1, Prediccion: 1, Error:0, Pesos: [0.5, 0.30000000000000004], Sesgo: -0.30000000000000004\n",
      "Entrada: [1, 1], Esperado: 1, Prediccion: 1, Error:0, Pesos: [0.5, 0.30000000000000004], Sesgo: -0.30000000000000004\n",
      "Epoch 7/10\n",
      "Entrada: [0, 0], Esperado: 0, Prediccion: 0, Error:0, Pesos: [0.5, 0.30000000000000004], Sesgo: -0.30000000000000004\n",
      "Entrada: [0, 1], Esperado: 1, Prediccion: 1, Error:0, Pesos: [0.5, 0.30000000000000004], Sesgo: -0.30000000000000004\n",
      "Entrada: [1, 0], Esperado: 1, Prediccion: 1, Error:0, Pesos: [0.5, 0.30000000000000004], Sesgo: -0.30000000000000004\n",
      "Entrada: [1, 1], Esperado: 1, Prediccion: 1, Error:0, Pesos: [0.5, 0.30000000000000004], Sesgo: -0.30000000000000004\n",
      "Epoch 8/10\n",
      "Entrada: [0, 0], Esperado: 0, Prediccion: 0, Error:0, Pesos: [0.5, 0.30000000000000004], Sesgo: -0.30000000000000004\n",
      "Entrada: [0, 1], Esperado: 1, Prediccion: 1, Error:0, Pesos: [0.5, 0.30000000000000004], Sesgo: -0.30000000000000004\n",
      "Entrada: [1, 0], Esperado: 1, Prediccion: 1, Error:0, Pesos: [0.5, 0.30000000000000004], Sesgo: -0.30000000000000004\n",
      "Entrada: [1, 1], Esperado: 1, Prediccion: 1, Error:0, Pesos: [0.5, 0.30000000000000004], Sesgo: -0.30000000000000004\n",
      "Epoch 9/10\n",
      "Entrada: [0, 0], Esperado: 0, Prediccion: 0, Error:0, Pesos: [0.5, 0.30000000000000004], Sesgo: -0.30000000000000004\n",
      "Entrada: [0, 1], Esperado: 1, Prediccion: 1, Error:0, Pesos: [0.5, 0.30000000000000004], Sesgo: -0.30000000000000004\n",
      "Entrada: [1, 0], Esperado: 1, Prediccion: 1, Error:0, Pesos: [0.5, 0.30000000000000004], Sesgo: -0.30000000000000004\n",
      "Entrada: [1, 1], Esperado: 1, Prediccion: 1, Error:0, Pesos: [0.5, 0.30000000000000004], Sesgo: -0.30000000000000004\n",
      "Epoch 10/10\n",
      "Entrada: [0, 0], Esperado: 0, Prediccion: 0, Error:0, Pesos: [0.5, 0.30000000000000004], Sesgo: -0.30000000000000004\n",
      "Entrada: [0, 1], Esperado: 1, Prediccion: 1, Error:0, Pesos: [0.5, 0.30000000000000004], Sesgo: -0.30000000000000004\n",
      "Entrada: [1, 0], Esperado: 1, Prediccion: 1, Error:0, Pesos: [0.5, 0.30000000000000004], Sesgo: -0.30000000000000004\n",
      "Entrada: [1, 1], Esperado: 1, Prediccion: 1, Error:0, Pesos: [0.5, 0.30000000000000004], Sesgo: -0.30000000000000004\n",
      "\n",
      "Evaluar OR:\n",
      "Input: [0, 0], Output: 0\n",
      "Input: [0, 1], Output: 1\n",
      "Input: [1, 0], Output: 1\n",
      "Input: [1, 1], Output: 1\n"
     ]
    }
   ],
   "source": [
    "# Entrenar perceptron para OR\n",
    "train(inputs, targets_or, epochs=10)\n",
    "\n",
    "# Test\n",
    "print(\"\\nEvaluar OR:\")\n",
    "for input_vector in inputs:\n",
    "    print(f\"Input: {input_vector}, Output: {forward_pass(input_vector)}\")"
   ]
  }
 ],
 "metadata": {
  "kernelspec": {
   "display_name": ".venv",
   "language": "python",
   "name": "python3"
  },
  "language_info": {
   "codemirror_mode": {
    "name": "ipython",
    "version": 3
   },
   "file_extension": ".py",
   "mimetype": "text/x-python",
   "name": "python",
   "nbconvert_exporter": "python",
   "pygments_lexer": "ipython3",
   "version": "3.12.8"
  }
 },
 "nbformat": 4,
 "nbformat_minor": 2
}
