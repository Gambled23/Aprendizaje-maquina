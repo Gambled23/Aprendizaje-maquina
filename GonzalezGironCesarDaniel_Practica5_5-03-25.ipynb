{
 "cells": [
  {
   "cell_type": "code",
   "execution_count": 2,
   "metadata": {},
   "outputs": [],
   "source": [
    "#########################################\n",
    "## Example of simple linear regression ##\n",
    "#########################################"
   ]
  },
  {
   "cell_type": "code",
   "execution_count": 1,
   "metadata": {},
   "outputs": [],
   "source": [
    "################################\n",
    "## Import required Librarires ##\n",
    "################################\n",
    "# Numpy to compute #\n",
    "import numpy as np\n",
    "\n",
    "# Matplotlib to show the results ##\n",
    "import matplotlib.pyplot as plt\n",
    "import pandas as pd\n",
    "\n",
    "# Scikit learn to make the regression model #\n",
    "from sklearn.linear_model import LinearRegression\n",
    "from sklearn.model_selection import train_test_split\n",
    "from sklearn.metrics import mean_squared_error"
   ]
  },
  {
   "cell_type": "code",
   "execution_count": 3,
   "metadata": {},
   "outputs": [
    {
     "data": {
      "text/html": [
       "<div>\n",
       "<style scoped>\n",
       "    .dataframe tbody tr th:only-of-type {\n",
       "        vertical-align: middle;\n",
       "    }\n",
       "\n",
       "    .dataframe tbody tr th {\n",
       "        vertical-align: top;\n",
       "    }\n",
       "\n",
       "    .dataframe thead th {\n",
       "        text-align: right;\n",
       "    }\n",
       "</style>\n",
       "<table border=\"1\" class=\"dataframe\">\n",
       "  <thead>\n",
       "    <tr style=\"text-align: right;\">\n",
       "      <th></th>\n",
       "      <th>Semana</th>\n",
       "      <th>Horas Trabajadas</th>\n",
       "      <th>Horas Descanso</th>\n",
       "      <th>Productos Terminados</th>\n",
       "    </tr>\n",
       "  </thead>\n",
       "  <tbody>\n",
       "    <tr>\n",
       "      <th>0</th>\n",
       "      <td>1</td>\n",
       "      <td>42</td>\n",
       "      <td>2</td>\n",
       "      <td>28.9</td>\n",
       "    </tr>\n",
       "    <tr>\n",
       "      <th>1</th>\n",
       "      <td>2</td>\n",
       "      <td>45</td>\n",
       "      <td>3</td>\n",
       "      <td>30.6</td>\n",
       "    </tr>\n",
       "    <tr>\n",
       "      <th>2</th>\n",
       "      <td>3</td>\n",
       "      <td>30</td>\n",
       "      <td>2</td>\n",
       "      <td>21.1</td>\n",
       "    </tr>\n",
       "    <tr>\n",
       "      <th>3</th>\n",
       "      <td>4</td>\n",
       "      <td>33</td>\n",
       "      <td>2</td>\n",
       "      <td>21.8</td>\n",
       "    </tr>\n",
       "    <tr>\n",
       "      <th>4</th>\n",
       "      <td>5</td>\n",
       "      <td>33</td>\n",
       "      <td>3</td>\n",
       "      <td>19.3</td>\n",
       "    </tr>\n",
       "    <tr>\n",
       "      <th>5</th>\n",
       "      <td>6</td>\n",
       "      <td>37</td>\n",
       "      <td>3</td>\n",
       "      <td>26.3</td>\n",
       "    </tr>\n",
       "    <tr>\n",
       "      <th>6</th>\n",
       "      <td>7</td>\n",
       "      <td>39</td>\n",
       "      <td>2</td>\n",
       "      <td>28.1</td>\n",
       "    </tr>\n",
       "    <tr>\n",
       "      <th>7</th>\n",
       "      <td>8</td>\n",
       "      <td>49</td>\n",
       "      <td>2</td>\n",
       "      <td>28.4</td>\n",
       "    </tr>\n",
       "    <tr>\n",
       "      <th>8</th>\n",
       "      <td>9</td>\n",
       "      <td>48</td>\n",
       "      <td>2</td>\n",
       "      <td>29.4</td>\n",
       "    </tr>\n",
       "    <tr>\n",
       "      <th>9</th>\n",
       "      <td>10</td>\n",
       "      <td>34</td>\n",
       "      <td>2</td>\n",
       "      <td>21.1</td>\n",
       "    </tr>\n",
       "  </tbody>\n",
       "</table>\n",
       "</div>"
      ],
      "text/plain": [
       "   Semana  Horas Trabajadas  Horas Descanso  Productos Terminados\n",
       "0       1                42               2                  28.9\n",
       "1       2                45               3                  30.6\n",
       "2       3                30               2                  21.1\n",
       "3       4                33               2                  21.8\n",
       "4       5                33               3                  19.3\n",
       "5       6                37               3                  26.3\n",
       "6       7                39               2                  28.1\n",
       "7       8                49               2                  28.4\n",
       "8       9                48               2                  29.4\n",
       "9      10                34               2                  21.1"
      ]
     },
     "execution_count": 3,
     "metadata": {},
     "output_type": "execute_result"
    }
   ],
   "source": [
    "####################################\n",
    "## Read the dataset (Format .csv) ##\n",
    "####################################\n",
    "df = pd.read_csv(\"datasets/Productos.csv\", decimal=\",\")\n",
    "df.head(10)"
   ]
  },
  {
   "cell_type": "code",
   "execution_count": 29,
   "metadata": {},
   "outputs": [],
   "source": [
    "##########################\n",
    "## Datset Preprocessing ##\n",
    "##########################\n",
    "df = df.dropna(subset=['Semana','Horas Trabajadas','Horas Descanso', 'Productos Terminados'])"
   ]
  },
  {
   "cell_type": "code",
   "execution_count": 30,
   "metadata": {},
   "outputs": [
    {
     "name": "stdout",
     "output_type": "stream",
     "text": [
      "   Semana  Horas Trabajadas  Horas Descanso  Productos Terminados\n",
      "0       1                42               2                  28.9\n",
      "1       2                45               3                  30.6\n",
      "2       3                30               2                  21.1\n",
      "3       4                33               2                  21.8\n",
      "4       5                33               3                  19.3\n",
      "5       6                37               3                  26.3\n",
      "6       7                39               2                  28.1\n",
      "7       8                49               2                  28.4\n",
      "8       9                48               2                  29.4\n",
      "9      10                34               2                  21.1\n"
     ]
    }
   ],
   "source": [
    "print(df.head(10))"
   ]
  },
  {
   "cell_type": "code",
   "execution_count": 6,
   "metadata": {},
   "outputs": [
    {
     "name": "stdout",
     "output_type": "stream",
     "text": [
      "0     40.90547645\n",
      "1     41.57648349\n",
      "2     41.36923875\n",
      "3     41.53721065\n",
      "4     40.44120331\n",
      "5     41.14248397\n",
      "6      40.6538416\n",
      "7     41.10474124\n",
      "9     41.99282312\n",
      "10    40.81829105\n",
      "Name: horas, dtype: object\n"
     ]
    }
   ],
   "source": [
    "## Print different sections of the dataframe ##\n",
    "print(df['horas'].head(10))"
   ]
  },
  {
   "cell_type": "code",
   "execution_count": 33,
   "metadata": {},
   "outputs": [],
   "source": [
    "############################\n",
    "## Selection of variables ##\n",
    "############################\n",
    "method = 0\n",
    "\n",
    "if method == 1:\n",
    "    # Method 1 (Using names of columns)#\n",
    "    variable_x = \"Horas Trabajadas\"\n",
    "    variable_y = \"Productos Terminados\"\n",
    "else:\n",
    "    # Method 2 (Using data from columns)#\n",
    "    x = df[\"Horas Trabajadas\"].astype(float)\n",
    "    y = df[\"Productos Terminados\"].astype(float)\n",
    "    \n",
    "    x = [[i] for i in x]\n",
    "    y = [[i] for i in y]\n"
   ]
  },
  {
   "cell_type": "code",
   "execution_count": 34,
   "metadata": {},
   "outputs": [],
   "source": [
    "##################################\n",
    "## Generate and train the model ##\n",
    "##################################\n",
    "model = LinearRegression() \n",
    "\n",
    "if method == 1:\n",
    "    # Method 1 #\n",
    "    model.fit(df[[variable_x]], df[variable_y]) \n",
    "else:\n",
    "    # Method 2 #\n",
    "    x_train, x_test, y_train, y_test = train_test_split(x, y, test_size=0.3, random_state=42)\n",
    "    model.fit(x_train, y_train)    "
   ]
  },
  {
   "cell_type": "code",
   "execution_count": 35,
   "metadata": {},
   "outputs": [
    {
     "name": "stdout",
     "output_type": "stream",
     "text": [
      "[[23.25178257]\n",
      " [24.67834704]\n",
      " [21.82521811]\n",
      " [28.95804043]\n",
      " [22.77626108]\n",
      " [20.39865365]\n",
      " [27.53147596]\n",
      " [22.77626108]\n",
      " [29.43356191]\n",
      " [24.20282555]]\n"
     ]
    }
   ],
   "source": [
    "##############################################\n",
    "## Make predictions using the trained model ##\n",
    "##############################################\n",
    "y_pred = model.predict(x_test)\n",
    "print(y_pred[0:10])"
   ]
  },
  {
   "cell_type": "code",
   "execution_count": 25,
   "metadata": {},
   "outputs": [
    {
     "name": "stdout",
     "output_type": "stream",
     "text": [
      "2.4622809535379213\n"
     ]
    }
   ],
   "source": [
    "####################\n",
    "## Test the model ##\n",
    "####################\n",
    "mse = mean_squared_error(y_test, y_pred)\n",
    "print(mse)"
   ]
  },
  {
   "cell_type": "code",
   "execution_count": 36,
   "metadata": {},
   "outputs": [
    {
     "name": "stdout",
     "output_type": "stream",
     "text": [
      "Coeficiente m: 0.4755214878110078\n",
      "Intercepto b: 6.133009011596595\n",
      "Ecuación de la recta: y = 0.4755214878110078x + 6.133009011596595\n",
      "Error cuadrático medio (MSE): 2.4622809535379213\n"
     ]
    }
   ],
   "source": [
    "############################################\n",
    "## Show parameters calculted by the model ##\n",
    "############################################\n",
    "print(f\"Coeficiente m: {model.coef_[0][0]}\")\n",
    "print(f\"Intercepto b: {model.intercept_[0]}\")\n",
    "\n",
    "print (f\"Ecuación de la recta: y = {model.coef_[0][0]}x + {model.intercept_[0]}\") \n",
    "\n",
    "print(f\"Error cuadrático medio (MSE): {mse}\")"
   ]
  },
  {
   "cell_type": "code",
   "execution_count": 37,
   "metadata": {},
   "outputs": [
    {
     "data": {
      "image/png": "[encoded data removed]",
      "text/plain": [
       "<Figure size 640x480 with 1 Axes>"
      ]
     },
     "metadata": {},
     "output_type": "display_data"
    }
   ],
   "source": [
    "################################\n",
    "# Show the prediction results ##\n",
    "################################\n",
    "# Plot real data #\n",
    "plt.scatter(x_test, y_test, color=\"blue\", label=\"Real Data\")\n",
    "# Plot the linear regression #\n",
    "plt.scatter(x_test, y_pred, color=\"magenta\", linewidth=2, label=\"Prediction\")\n",
    "# Plot predictions obtained by the model #\n",
    "plt.plot(x_test, y_pred, color=\"black\", linewidth=2, label=\"Linear regression\")\n",
    "\n",
    "# Plot axis labels \n",
    "plt.xlabel(\"Horas Trabajadas\")\n",
    "plt.ylabel(\"Productos Terminados\")\n",
    "plt.legend()\n",
    "plt.show()"
   ]
  },
  {
   "cell_type": "code",
   "execution_count": null,
   "metadata": {},
   "outputs": [
    {
     "name": "stdout",
     "output_type": "stream",
     "text": [
      "Para un total de 20 trabajadas, el valor predecido es:15.64343876781675\n",
      "Para un total de 38 trabajadas, el valor predecido es:24.20282554841489\n",
      "Para un total de 42 trabajadas, el valor predecido es:26.10491149965892\n",
      "Para un total de 55 trabajadas, el valor predecido es:32.286690841202024\n",
      "Para un total de 80 trabajadas, el valor predecido es:44.17472803647722\n",
      "Para un total de 14 trabajadas, el valor predecido es:12.790309840950705\n"
     ]
    }
   ],
   "source": [
    "##############################################\n",
    "## Prediction of values using specific data ##\n",
    "# ############################################\n",
    "list = [20, 38, 42, 55, 80, 14]\n",
    "\n",
    "for i in list:\n",
    "    value = i*model.coef_[0][0] + model.intercept_[0]\n",
    "    print(f\"Para un total de {i} horas trabajadas, el valor predecido es:{value}\")"
   ]
  },
  {
   "cell_type": "code",
   "execution_count": null,
   "metadata": {},
   "outputs": [],
   "source": []
  }
 ],
 "metadata": {
  "kernelspec": {
   "display_name": "Python 3",
   "language": "python",
   "name": "python3"
  },
  "language_info": {
   "codemirror_mode": {
    "name": "ipython",
    "version": 3
   },
   "file_extension": ".py",
   "mimetype": "text/x-python",
   "name": "python",
   "nbconvert_exporter": "python",
   "pygments_lexer": "ipython3",
   "version": "3.12.8"
  }
 },
 "nbformat": 4,
 "nbformat_minor": 2
}
