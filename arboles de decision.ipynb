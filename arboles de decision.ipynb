{
 "cells": [
  {
   "cell_type": "code",
   "execution_count": 41,
   "metadata": {},
   "outputs": [],
   "source": [
    "import numpy as np\n",
    "import matplotlib.pyplot as plt\n",
    "import seaborn as sns\n",
    "\n",
    "from sklearn.model_selection import train_test_split\n",
    "from sklearn.tree import DecisionTreeClassifier\n",
    "from sklearn.metrics import mean_squared_error, f1_score, confusion_matrix, ConfusionMatrixDisplay\n",
    "from sklearn import tree\n",
    "from sklearn.datasets import load_iris"
   ]
  },
  {
   "cell_type": "code",
   "execution_count": null,
   "metadata": {},
   "outputs": [],
   "source": [
    "iris = load_iris(as_frame=True)\n",
    "print(iris.keys())\n",
    "\n",
    "iris.frame[\"target\"] = iris.target_names[iris.target]\n",
    "sns.pairplot(iris.frame, hue=\"target\")\n",
    "plt.show()"
   ]
  },
  {
   "cell_type": "markdown",
   "metadata": {},
   "source": [
    "## Crear variables"
   ]
  },
  {
   "cell_type": "code",
   "execution_count": null,
   "metadata": {},
   "outputs": [],
   "source": [
    "variablex = iris[\"data\"].values.reshape((-1, 4))\n",
    "# seleccionar 2da y 3ra columna\n",
    "variablex = variablex[:, [2,3]]\n",
    "variabley = iris[\"target\"].values.reshape((-1, 1))\n",
    "\n",
    "# Seleccionar datos con clase 1 y 2\n",
    "index = np.array([np.where(variabley == 1)[0], np.where(variabley == 2)[0]])\n",
    "index = index.reshape(-1,1)\n",
    "variablex = variablex[index].reshape(-1,2)\n",
    "variabley = variabley[index].reshape(-1,1)"
   ]
  },
  {
   "cell_type": "markdown",
   "metadata": {},
   "source": [
    "## Crear arboles de decision"
   ]
  },
  {
   "cell_type": "code",
   "execution_count": null,
   "metadata": {},
   "outputs": [],
   "source": [
    "x_train, x_test, y_train, y_test = train_test_split(variablex, variabley, test_size=0.2, random_state=42)\n",
    "\n",
    "modelTree = DecisionTreeClassifier(criterion=\"gini\", max_depth=3)\n",
    "modelTree.fit(x_train, y_train)\n",
    "\n",
    "y_pred = modelTree.predict(x_test)\n",
    "f1 = f1_score(y_test, y_pred)\n",
    "percent = modelTree.score(x_test, y_test)\n",
    "print(f'f1_score: {f1}')\n",
    "print(f'El modelo obtuvo {percent*100}% de precision en la clasificacion')"
   ]
  },
  {
   "cell_type": "markdown",
   "metadata": {},
   "source": [
    "# Visualizar el arbol"
   ]
  },
  {
   "cell_type": "code",
   "execution_count": null,
   "metadata": {},
   "outputs": [],
   "source": [
    "print(tree.export_text(modelTree, feature_names=[\"petal length (cm)\", \"petal width (cm)\"]))\n",
    "\n",
    "plt.figure(figsize=(12, 12))\n",
    "tree.plot_tree(modelTree, feature_names=[\"petal length (cm)\", \"petal width (cm)\"])\n",
    "plt.show()"
   ]
  },
  {
   "cell_type": "markdown",
   "metadata": {},
   "source": [
    "# Matriz de confusion"
   ]
  },
  {
   "cell_type": "code",
   "execution_count": 43,
   "metadata": {},
   "outputs": [
    {
     "name": "stdout",
     "output_type": "stream",
     "text": [
      "Clase 1: 12\n",
      "Clase 2: 8\n"
     ]
    },
    {
     "data": {
      "image/png": "[encoded data removed]",
      "text/plain": [
       "<Figure size 640x480 with 2 Axes>"
      ]
     },
     "metadata": {},
     "output_type": "display_data"
    }
   ],
   "source": [
    "unique, counts = np.unique(y_test, return_counts=True)\n",
    "\n",
    "for i in range(len(unique)):\n",
    "    print(f'Clase {unique[i]}: {counts[i]}')\n",
    "\n",
    "conf_matrix = confusion_matrix(y_test, y_pred)\n",
    "cm_display = ConfusionMatrixDisplay(conf_matrix, display_labels=modelTree.classes_)\n",
    "cm_display.plot(cmap=plt.cm.Blues)\n",
    "plt.show()\n"
   ]
  },
  {
   "cell_type": "code",
   "execution_count": null,
   "metadata": {},
   "outputs": [],
   "source": []
  }
 ],
 "metadata": {
  "kernelspec": {
   "display_name": ".venv",
   "language": "python",
   "name": "python3"
  },
  "language_info": {
   "codemirror_mode": {
    "name": "ipython",
    "version": 3
   },
   "file_extension": ".py",
   "mimetype": "text/x-python",
   "name": "python",
   "nbconvert_exporter": "python",
   "pygments_lexer": "ipython3",
   "version": "3.12.8"
  }
 },
 "nbformat": 4,
 "nbformat_minor": 2
}
