{
 "cells": [
  {
   "cell_type": "code",
   "execution_count": 2,
   "metadata": {},
   "outputs": [],
   "source": [
    "import numpy as np"
   ]
  },
  {
   "cell_type": "code",
   "execution_count": null,
   "metadata": {},
   "outputs": [],
   "source": [
    "arr = np.array(10)\n",
    "arr2 = np.array([1, 2, 3, 4, 5])\n",
    "arr3 = np.array([[1, 2, 3], [4, 5, 6]])\n",
    "arr4 = np.array([[[1, 2, 3], [4, 5, 6]], [[7, 8, 9], [10, 11, 12]]])\n",
    "\n",
    "print(arr.ndim, arr.shape)\n",
    "print(arr2.ndim, arr2.shape)\n",
    "print(arr3.ndim, arr3.shape)\n",
    "print(arr4.ndim, arr4.shape)"
   ]
  },
  {
   "cell_type": "code",
   "execution_count": null,
   "metadata": {},
   "outputs": [],
   "source": [
    "# Crear matriz de nxm con 0 elementos\n",
    "arr5 = np.zeros((3, 2))\n",
    "print(arr5)\n",
    "\n",
    "arr6 = np.arange(10, 50)\n",
    "print(arr6)\n",
    "arr6 = arr6.reshape(4, 10)\n",
    "print(arr6)"
   ]
  },
  {
   "cell_type": "markdown",
   "metadata": {},
   "source": [
    "# Producto punto"
   ]
  },
  {
   "cell_type": "code",
   "execution_count": null,
   "metadata": {},
   "outputs": [],
   "source": [
    "a = np.array([1,2,3])\n",
    "b = np.array([4,5,6])\n",
    "\n",
    "elemento = a*b\n",
    "dot_product = np.dot(a, b)\n",
    "dot_product_alt = a @ b\n",
    "print(elemento)\n",
    "print(dot_product)\n",
    "print(dot_product_alt)"
   ]
  },
  {
   "cell_type": "markdown",
   "metadata": {},
   "source": [
    "# Producto escalar"
   ]
  },
  {
   "cell_type": "code",
   "execution_count": null,
   "metadata": {},
   "outputs": [],
   "source": [
    "A = np.array([[1, 2], [3,4]])\n",
    "B = np.array([[5,6], [7,8]])\n",
    "\n",
    "elementomatrix = A*B\n",
    "matrix_product = np.dot(A, B)\n",
    "matrix_product_alt = A @ B\n",
    "\n",
    "print(elementomatrix)\n",
    "print(matrix_product)\n",
    "print(matrix_product_alt)"
   ]
  },
  {
   "cell_type": "code",
   "execution_count": null,
   "metadata": {},
   "outputs": [],
   "source": [
    "A = np.array([[1, 2, 3], [2, 3, 4], [3,4,5]])\n",
    "B = np.array([[5,6], [9,11], [15,18]])\n",
    "C = np.array([4,5,6])\n",
    "\n",
    "print(np.dot(A, B))\n",
    "B = np.reshape(B, (2,3))\n",
    "print(np.dot(B, A))\n",
    "print(np.dot(A,C))\n",
    "print(np.dot(B,C))"
   ]
  },
  {
   "cell_type": "code",
   "execution_count": 1,
   "metadata": {},
   "outputs": [],
   "source": [
    "\n",
    "import numpy as np\n",
    "import matplotlib.pyplot as plt\n",
    "\n",
    "from sklearn.linear_model import LinearRegression\n",
    "from sklearn.model_selection import train_test_split\n",
    "from sklearn.metrics import mean_squared_error\n",
    "\n",
    "np.random.seed(42)\n",
    "x = 2 * np.random.rand(200, 1)\n",
    "y = 4 + 3 * x + np.random.randn(200, 1)"
   ]
  },
  {
   "cell_type": "code",
   "execution_count": 2,
   "metadata": {},
   "outputs": [
    {
     "name": "stdout",
     "output_type": "stream",
     "text": [
      "(200, 1) (200, 1)\n",
      "Values of x: \n",
      " [[0.74908024]\n",
      " [1.90142861]\n",
      " [1.46398788]\n",
      " [1.19731697]\n",
      " [0.31203728]] \n",
      "\n",
      "Values of y: \n",
      " [[5.56721599]\n",
      " [9.93653954]\n",
      " [8.68503612]\n",
      " [6.87759949]\n",
      " [6.80188635]] \n",
      "\n"
     ]
    }
   ],
   "source": [
    "print(x.shape, y.shape)\n",
    "print(f'Values of x: \\n {x[:5]} \\n')\n",
    "print(f'Values of y: \\n {y[:5]} \\n')"
   ]
  },
  {
   "cell_type": "code",
   "execution_count": 3,
   "metadata": {},
   "outputs": [
    {
     "name": "stdout",
     "output_type": "stream",
     "text": [
      "[[ 7.029013  ]\n",
      " [ 5.13416742]\n",
      " [ 7.72341849]\n",
      " [ 5.46524402]\n",
      " [ 4.05697795]\n",
      " [ 9.33454584]\n",
      " [10.03918947]\n",
      " [ 8.15086684]\n",
      " [ 7.9531259 ]\n",
      " [ 8.05903942]]\n"
     ]
    }
   ],
   "source": [
    "x_train, x_test, y_train, y_test = train_test_split(x, y, test_size=0.2, random_state=42)\n",
    "model = LinearRegression()\n",
    "model.fit(x_train, y_train)\n",
    "y_pred = model.predict(x_test)\n",
    "print(y_pred[0:10])"
   ]
  },
  {
   "cell_type": "code",
   "execution_count": 4,
   "metadata": {},
   "outputs": [
    {
     "name": "stdout",
     "output_type": "stream",
     "text": [
      "Coeficientes m: 3.0523517902139203\n",
      "Intercepto b: 4.014537254435552\n",
      "Error cuadratico medio: 1.0846238625454692\n"
     ]
    }
   ],
   "source": [
    "# Test model\n",
    "mse = mean_squared_error(y_test, y_pred)\n",
    "\n",
    "print(f'Coeficientes m: {model.coef_[0][0]}')\n",
    "print(f'Intercepto b: {model.intercept_[0]}')\n",
    "print(f'Error cuadratico medio: {mse}')"
   ]
  },
  {
   "cell_type": "code",
   "execution_count": 6,
   "metadata": {},
   "outputs": [
    {
     "data": {
      "image/png": "[encoded data removed]",
      "text/plain": [
       "<Figure size 640x480 with 1 Axes>"
      ]
     },
     "metadata": {},
     "output_type": "display_data"
    }
   ],
   "source": [
    "# graph\n",
    "plt.scatter(x_test, y_test, color='blue', label='Datos reales')\n",
    "\n",
    "plt.scatter(x_test, y_pred, color='lime', label='Predicción')\n",
    "plt.plot(x_test, y_pred, color='red', linewidth=3, label='Recta de regresión')\n",
    "plt.xlabel('X')\n",
    "plt.ylabel('Y')\n",
    "plt.legend()\n",
    "plt.show()"
   ]
  }
 ],
 "metadata": {
  "kernelspec": {
   "display_name": "Python 3",
   "language": "python",
   "name": "python3"
  },
  "language_info": {
   "codemirror_mode": {
    "name": "ipython",
    "version": 3
   },
   "file_extension": ".py",
   "mimetype": "text/x-python",
   "name": "python",
   "nbconvert_exporter": "python",
   "pygments_lexer": "ipython3",
   "version": "3.12.8"
  }
 },
 "nbformat": 4,
 "nbformat_minor": 2
}
